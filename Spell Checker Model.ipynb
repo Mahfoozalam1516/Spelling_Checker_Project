{
 "cells": [
  {
   "cell_type": "code",
   "execution_count": 25,
   "id": "7761e181",
   "metadata": {},
   "outputs": [],
   "source": [
    "import re\n",
    "from tqdm import tqdm\n",
    "import pandas as pd"
   ]
  },
  {
   "cell_type": "markdown",
   "id": "5bc98351",
   "metadata": {},
   "source": [
    "## Finding the Unique words"
   ]
  },
  {
   "cell_type": "code",
   "execution_count": 8,
   "id": "74521598",
   "metadata": {},
   "outputs": [
    {
     "name": "stdout",
     "output_type": "stream",
     "text": [
      "1115585\n",
      "38160\n"
     ]
    }
   ],
   "source": [
    "with open('big.txt','r') as fd:\n",
    "    lines = fd.readlines()\n",
    "    words = []\n",
    "    for line in lines:\n",
    "        words += re.findall('\\w+', line)\n",
    "    \n",
    "print(len(words))\n",
    "vocab = set(words)\n",
    "print(len(vocab))"
   ]
  },
  {
   "cell_type": "markdown",
   "id": "ed1b73f1",
   "metadata": {},
   "source": [
    "## Finding the probability distribution"
   ]
  },
  {
   "cell_type": "code",
   "execution_count": 9,
   "id": "f8c09da3",
   "metadata": {},
   "outputs": [
    {
     "name": "stderr",
     "output_type": "stream",
     "text": [
      "100%|████████████████████████████████████████████████████████████████████████████| 38160/38160 [15:22<00:00, 41.38it/s]\n"
     ]
    }
   ],
   "source": [
    "word_probability = {}\n",
    "\n",
    "for word in tqdm(vocab):\n",
    "    word_probability[word] = float(words.count(word)/len(words))"
   ]
  },
  {
   "cell_type": "code",
   "execution_count": 10,
   "id": "2375a863",
   "metadata": {},
   "outputs": [
    {
     "data": {
      "text/plain": [
       "38160"
      ]
     },
     "execution_count": 10,
     "metadata": {},
     "output_type": "execute_result"
    }
   ],
   "source": [
    "len(word_probability)"
   ]
  },
  {
   "cell_type": "code",
   "execution_count": 11,
   "id": "6c99b398",
   "metadata": {},
   "outputs": [
    {
     "data": {
      "text/plain": [
       "0.06479291134247951"
      ]
     },
     "execution_count": 11,
     "metadata": {},
     "output_type": "execute_result"
    }
   ],
   "source": [
    "word_probability['the']"
   ]
  },
  {
   "cell_type": "markdown",
   "id": "46c8a426",
   "metadata": {},
   "source": [
    "## Text Preprocessing"
   ]
  },
  {
   "cell_type": "markdown",
   "id": "aaaa26c6",
   "metadata": {},
   "source": [
    "### Splitting"
   ]
  },
  {
   "cell_type": "code",
   "execution_count": 14,
   "id": "4ec1144f",
   "metadata": {},
   "outputs": [
    {
     "data": {
      "text/plain": [
       "[('', 'mahfooz'),\n",
       " ('m', 'ahfooz'),\n",
       " ('ma', 'hfooz'),\n",
       " ('mah', 'fooz'),\n",
       " ('mahf', 'ooz'),\n",
       " ('mahfo', 'oz'),\n",
       " ('mahfoo', 'z'),\n",
       " ('mahfooz', '')]"
      ]
     },
     "execution_count": 14,
     "metadata": {},
     "output_type": "execute_result"
    }
   ],
   "source": [
    "def split(word):\n",
    "    \n",
    "    parts = []\n",
    "    \n",
    "    for i in range(len(word) + 1):\n",
    "        parts += [(word[:i], word[i:])]\n",
    "    \n",
    "    return parts\n",
    "\n",
    "split('mahfooz')"
   ]
  },
  {
   "cell_type": "markdown",
   "id": "78bbc7f9",
   "metadata": {},
   "source": [
    "### Delete"
   ]
  },
  {
   "cell_type": "code",
   "execution_count": 16,
   "id": "9b8bfdc7",
   "metadata": {},
   "outputs": [
    {
     "data": {
      "text/plain": [
       "['emamber',\n",
       " 'rmamber',\n",
       " 'reamber',\n",
       " 'remmber',\n",
       " 'remaber',\n",
       " 'remamer',\n",
       " 'remambr',\n",
       " 'remambe',\n",
       " 'remamber']"
      ]
     },
     "execution_count": 16,
     "metadata": {},
     "output_type": "execute_result"
    }
   ],
   "source": [
    "def delete(word):\n",
    "    output = []\n",
    "    for l, r in split(word):\n",
    "        output.append(l + r[1:])\n",
    "    return output\n",
    "\n",
    "delete('remamber')"
   ]
  },
  {
   "cell_type": "markdown",
   "id": "b43d881c",
   "metadata": {},
   "source": [
    "### Swap"
   ]
  },
  {
   "cell_type": "code",
   "execution_count": 18,
   "id": "78c3985e",
   "metadata": {},
   "outputs": [
    {
     "data": {
      "text/plain": [
       "['phpay', 'hppay', 'hpapy', 'hppya']"
      ]
     },
     "execution_count": 18,
     "metadata": {},
     "output_type": "execute_result"
    }
   ],
   "source": [
    "def swap(word):\n",
    "    \n",
    "    output = []\n",
    "    for l,r in split(word):\n",
    "        if (len(r) > 1):\n",
    "            output.append(l + r[1] + r[0] + r[2:])\n",
    "    return output\n",
    "\n",
    "swap('hppay')"
   ]
  },
  {
   "cell_type": "markdown",
   "id": "6d49174c",
   "metadata": {},
   "source": [
    "### Replace"
   ]
  },
  {
   "cell_type": "code",
   "execution_count": 19,
   "id": "e2c2d0fd",
   "metadata": {},
   "outputs": [
    {
     "data": {
      "text/plain": [
       "130"
      ]
     },
     "execution_count": 19,
     "metadata": {},
     "output_type": "execute_result"
    }
   ],
   "source": [
    "def replace(word):\n",
    "    \n",
    "    characters = 'abcdefghijklmnopqrstuvwxyz'\n",
    "    output = []\n",
    "    \n",
    "    for l,r in split(word):\n",
    "        for char in characters:\n",
    "            output.append(l + char + r[1:])\n",
    "    return output\n",
    "\n",
    "len(replace('lave'))"
   ]
  },
  {
   "cell_type": "markdown",
   "id": "4b704ed1",
   "metadata": {},
   "source": [
    "### Insert"
   ]
  },
  {
   "cell_type": "code",
   "execution_count": 21,
   "id": "22e35888",
   "metadata": {},
   "outputs": [
    {
     "data": {
      "text/plain": [
       "104"
      ]
     },
     "execution_count": 21,
     "metadata": {},
     "output_type": "execute_result"
    }
   ],
   "source": [
    "def insert(word):\n",
    "    \n",
    "    characters = 'abcdefghijklmnopqrstuvwxyz'\n",
    "    output = []\n",
    "    \n",
    "    for l,r in split(word):\n",
    "        for char in characters:\n",
    "            output.append(l + char + r)\n",
    "            \n",
    "    return output\n",
    "\n",
    "len(insert('lve'))"
   ]
  },
  {
   "cell_type": "markdown",
   "id": "d5ea4b0a",
   "metadata": {},
   "source": [
    "# Finding the predictions"
   ]
  },
  {
   "cell_type": "markdown",
   "id": "14c609ee",
   "metadata": {},
   "source": [
    "### Combinig the possible words"
   ]
  },
  {
   "cell_type": "code",
   "execution_count": 45,
   "id": "bcd7720a",
   "metadata": {},
   "outputs": [],
   "source": [
    "def edit(word):   \n",
    "    return list(set(insert(word) + delete(word) + swap(word) + replace(word)))"
   ]
  },
  {
   "cell_type": "markdown",
   "id": "d78a8670",
   "metadata": {},
   "source": [
    "## Predicting the words"
   ]
  },
  {
   "cell_type": "code",
   "execution_count": 46,
   "id": "36180c2a",
   "metadata": {},
   "outputs": [],
   "source": [
    "def spell_check_edit_1(word, count = 5):\n",
    "    \n",
    "    output = []\n",
    "    suggested_words = edit(word)\n",
    "    \n",
    "    for wrd in suggested_words:        \n",
    "        if wrd in word_probability.keys():\n",
    "            output.append([wrd, word_probability[wrd]])\n",
    "            \n",
    "    return list(pd.DataFrame(output, columns = ['word','prob']).sort_values(by = 'prob', ascending = False).head(count)['word'].values)"
   ]
  },
  {
   "cell_type": "code",
   "execution_count": 55,
   "id": "e6bea23c",
   "metadata": {},
   "outputs": [
    {
     "data": {
      "text/plain": [
       "['Leave', 'Love']"
      ]
     },
     "execution_count": 55,
     "metadata": {},
     "output_type": "execute_result"
    }
   ],
   "source": [
    "spell_check_edit_1('Loave')"
   ]
  },
  {
   "cell_type": "markdown",
   "id": "69ec8b22",
   "metadata": {},
   "source": [
    "## Advanced method of predicting words"
   ]
  },
  {
   "cell_type": "code",
   "execution_count": 56,
   "id": "4ec1e7fe",
   "metadata": {},
   "outputs": [
    {
     "data": {
      "text/plain": [
       "['have', 'love', 'gave', 'leave', 'save']"
      ]
     },
     "execution_count": 56,
     "metadata": {},
     "output_type": "execute_result"
    }
   ],
   "source": [
    "def spell_check_edit_2(word, count = 5):\n",
    "    \n",
    "    output = []\n",
    "    suggested_words = edit(word)       # Level one Edit\n",
    "    \n",
    "    for e1 in edit(word):\n",
    "        suggested_words += edit(e1)    # Second Level Edit \n",
    "    \n",
    "    suggested_words = list(set(suggested_words))\n",
    "    \n",
    "    for wrd in suggested_words:\n",
    "        if wrd in word_probability.keys():\n",
    "            output.append([wrd, word_probability[wrd]])\n",
    "    return list(pd.DataFrame(output, columns = ['word','prob']).sort_values(by = 'prob', ascending = False).head(count)['word'].values)\n",
    "        \n",
    "spell_check_edit_2('Loave')"
   ]
  },
  {
   "cell_type": "code",
   "execution_count": null,
   "id": "f845d8bc",
   "metadata": {},
   "outputs": [],
   "source": []
  },
  {
   "cell_type": "code",
   "execution_count": null,
   "id": "6f3cabe4",
   "metadata": {},
   "outputs": [],
   "source": [
    " "
   ]
  }
 ],
 "metadata": {
  "kernelspec": {
   "display_name": "Python 3 (ipykernel)",
   "language": "python",
   "name": "python3"
  },
  "language_info": {
   "codemirror_mode": {
    "name": "ipython",
    "version": 3
   },
   "file_extension": ".py",
   "mimetype": "text/x-python",
   "name": "python",
   "nbconvert_exporter": "python",
   "pygments_lexer": "ipython3",
   "version": "3.10.9"
  },
  "varInspector": {
   "cols": {
    "lenName": 16,
    "lenType": 16,
    "lenVar": 40
   },
   "kernels_config": {
    "python": {
     "delete_cmd_postfix": "",
     "delete_cmd_prefix": "del ",
     "library": "var_list.py",
     "varRefreshCmd": "print(var_dic_list())"
    },
    "r": {
     "delete_cmd_postfix": ") ",
     "delete_cmd_prefix": "rm(",
     "library": "var_list.r",
     "varRefreshCmd": "cat(var_dic_list()) "
    }
   },
   "types_to_exclude": [
    "module",
    "function",
    "builtin_function_or_method",
    "instance",
    "_Feature"
   ],
   "window_display": true
  }
 },
 "nbformat": 4,
 "nbformat_minor": 5
}
