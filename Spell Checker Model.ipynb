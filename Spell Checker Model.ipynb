{
 "cells": [
  {
   "cell_type": "code",
   "execution_count": 25,
   "id": "67e53b06",
   "metadata": {},
   "outputs": [],
   "source": [
    "import re\n",
    "from tqdm import tqdm\n",
    "import pandas as pd"
   ]
  },
  {
   "cell_type": "markdown",
   "id": "4448d2d4",
   "metadata": {},
   "source": [
    "## Finding the Unique words"
   ]
  },
  {
   "cell_type": "code",
   "execution_count": 8,
   "id": "b6f7c49f",
   "metadata": {},
   "outputs": [
    {
     "name": "stdout",
     "output_type": "stream",
     "text": [
      "1115585\n",
      "38160\n"
     ]
    }
   ],
   "source": [
    "with open('big.txt','r') as fd:\n",
    "    lines = fd.readlines()\n",
    "    words = []\n",
    "    for line in lines:\n",
    "        words += re.findall('\\w+', line)\n",
    "    \n",
    "print(len(words))\n",
    "vocab = set(words)\n",
    "print(len(vocab))"
   ]
  },
  {
   "cell_type": "markdown",
   "id": "1146026d",
   "metadata": {},
   "source": [
    "## Finding the probability distribution"
   ]
  },
  {
   "cell_type": "code",
   "execution_count": 9,
   "id": "30b317ae",
   "metadata": {},
   "outputs": [
    {
     "name": "stderr",
     "output_type": "stream",
     "text": [
      "100%|████████████████████████████████████████████████████████████████████████████| 38160/38160 [15:22<00:00, 41.38it/s]\n"
     ]
    }
   ],
   "source": [
    "word_probability = {}\n",
    "\n",
    "for word in tqdm(vocab):\n",
    "    word_probability[word] = float(words.count(word)/len(words))"
   ]
  },
  {
   "cell_type": "code",
   "execution_count": 10,
   "id": "cd5cf9bc",
   "metadata": {},
   "outputs": [
    {
     "data": {
      "text/plain": [
       "38160"
      ]
     },
     "execution_count": 10,
     "metadata": {},
     "output_type": "execute_result"
    }
   ],
   "source": [
    "len(word_probability)"
   ]
  },
  {
   "cell_type": "code",
   "execution_count": 11,
   "id": "b95738c9",
   "metadata": {},
   "outputs": [
    {
     "data": {
      "text/plain": [
       "0.06479291134247951"
      ]
     },
     "execution_count": 11,
     "metadata": {},
     "output_type": "execute_result"
    }
   ],
   "source": [
    "word_probability['the']"
   ]
  },
  {
   "cell_type": "markdown",
   "id": "d0686d64",
   "metadata": {},
   "source": [
    "## Text Preprocessing"
   ]
  },
  {
   "cell_type": "markdown",
   "id": "4e1cacb2",
   "metadata": {},
   "source": [
    "### Splitting"
   ]
  },
  {
   "cell_type": "code",
   "execution_count": 14,
   "id": "4d0f6612",
   "metadata": {},
   "outputs": [
    {
     "data": {
      "text/plain": [
       "[('', 'mahfooz'),\n",
       " ('m', 'ahfooz'),\n",
       " ('ma', 'hfooz'),\n",
       " ('mah', 'fooz'),\n",
       " ('mahf', 'ooz'),\n",
       " ('mahfo', 'oz'),\n",
       " ('mahfoo', 'z'),\n",
       " ('mahfooz', '')]"
      ]
     },
     "execution_count": 14,
     "metadata": {},
     "output_type": "execute_result"
    }
   ],
   "source": [
    "def split(word):\n",
    "    \n",
    "    parts = []\n",
    "    \n",
    "    for i in range(len(word) + 1):\n",
    "        parts += [(word[:i], word[i:])]\n",
    "    \n",
    "    return parts\n",
    "\n",
    "split('mahfooz')"
   ]
  },
  {
   "cell_type": "markdown",
   "id": "d36f6c69",
   "metadata": {},
   "source": [
    "### Delete"
   ]
  },
  {
   "cell_type": "code",
   "execution_count": 16,
   "id": "47564d25",
   "metadata": {},
   "outputs": [
    {
     "data": {
      "text/plain": [
       "['emamber',\n",
       " 'rmamber',\n",
       " 'reamber',\n",
       " 'remmber',\n",
       " 'remaber',\n",
       " 'remamer',\n",
       " 'remambr',\n",
       " 'remambe',\n",
       " 'remamber']"
      ]
     },
     "execution_count": 16,
     "metadata": {},
     "output_type": "execute_result"
    }
   ],
   "source": [
    "def delete(word):\n",
    "    output = []\n",
    "    for l, r in split(word):\n",
    "        output.append(l + r[1:])\n",
    "    return output\n",
    "\n",
    "delete('remamber')"
   ]
  },
  {
   "cell_type": "markdown",
   "id": "880ac0f2",
   "metadata": {},
   "source": [
    "### Swap"
   ]
  },
  {
   "cell_type": "code",
   "execution_count": 18,
   "id": "62dfe211",
   "metadata": {},
   "outputs": [
    {
     "data": {
      "text/plain": [
       "['phpay', 'hppay', 'hpapy', 'hppya']"
      ]
     },
     "execution_count": 18,
     "metadata": {},
     "output_type": "execute_result"
    }
   ],
   "source": [
    "def swap(word):\n",
    "    \n",
    "    output = []\n",
    "    for l,r in split(word):\n",
    "        if (len(r) > 1):\n",
    "            output.append(l + r[1] + r[0] + r[2:])\n",
    "    return output\n",
    "\n",
    "swap('hppay')"
   ]
  },
  {
   "cell_type": "markdown",
   "id": "0fb4600e",
   "metadata": {},
   "source": [
    "### Replace"
   ]
  },
  {
   "cell_type": "code",
   "execution_count": 19,
   "id": "3ddb0fa1",
   "metadata": {},
   "outputs": [
    {
     "data": {
      "text/plain": [
       "130"
      ]
     },
     "execution_count": 19,
     "metadata": {},
     "output_type": "execute_result"
    }
   ],
   "source": [
    "def replace(word):\n",
    "    \n",
    "    characters = 'abcdefghijklmnopqrstuvwxyz'\n",
    "    output = []\n",
    "    \n",
    "    for l,r in split(word):\n",
    "        for char in characters:\n",
    "            output.append(l + char + r[1:])\n",
    "    return output\n",
    "\n",
    "len(replace('lave'))"
   ]
  },
  {
   "cell_type": "markdown",
   "id": "4ee2cb2c",
   "metadata": {},
   "source": [
    "### Insert"
   ]
  },
  {
   "cell_type": "code",
   "execution_count": 21,
   "id": "118d0e00",
   "metadata": {},
   "outputs": [
    {
     "data": {
      "text/plain": [
       "104"
      ]
     },
     "execution_count": 21,
     "metadata": {},
     "output_type": "execute_result"
    }
   ],
   "source": [
    "def insert(word):\n",
    "    \n",
    "    characters = 'abcdefghijklmnopqrstuvwxyz'\n",
    "    output = []\n",
    "    \n",
    "    for l,r in split(word):\n",
    "        for char in characters:\n",
    "            output.append(l + char + r)\n",
    "            \n",
    "    return output\n",
    "\n",
    "len(insert('lve'))"
   ]
  },
  {
   "cell_type": "markdown",
   "id": "18087512",
   "metadata": {},
   "source": [
    "# Finding the predictions"
   ]
  },
  {
   "cell_type": "markdown",
   "id": "7496efc0",
   "metadata": {},
   "source": [
    "### Combinig the possible words"
   ]
  },
  {
   "cell_type": "code",
   "execution_count": 38,
   "id": "c1d1d21c",
   "metadata": {},
   "outputs": [],
   "source": [
    "def edit(word):\n",
    "    return set(insert(word) + delete(word) + swap(word) + replace(word))"
   ]
  },
  {
   "cell_type": "markdown",
   "id": "e71843c6",
   "metadata": {},
   "source": [
    "## Predicting the words"
   ]
  },
  {
   "cell_type": "code",
   "execution_count": 39,
   "id": "da1b7f58",
   "metadata": {},
   "outputs": [],
   "source": [
    "def spell_check(word, count = 5):\n",
    "\n",
    "    output = []\n",
    "\n",
    "    for wrd in suggested_words:\n",
    "        if wrd in word_probability.keys():\n",
    "            output.append([wrd, word_probability[wrd]])\n",
    "\n",
    "    return list(pd.DataFrame(output, columns = ['word', 'prob']).sort_values(by = 'prob', ascending = False).head(count)['word'].values)"
   ]
  },
  {
   "cell_type": "code",
   "execution_count": 40,
   "id": "94f4438e",
   "metadata": {},
   "outputs": [
    {
     "data": {
      "text/plain": [
       "['love', 'leave']"
      ]
     },
     "execution_count": 40,
     "metadata": {},
     "output_type": "execute_result"
    }
   ],
   "source": [
    "spell_check('tha', 2)"
   ]
  },
  {
   "cell_type": "code",
   "execution_count": null,
   "id": "dd53b3a5",
   "metadata": {},
   "outputs": [],
   "source": []
  },
  {
   "cell_type": "code",
   "execution_count": null,
   "id": "40b4a7c8",
   "metadata": {},
   "outputs": [],
   "source": []
  },
  {
   "cell_type": "code",
   "execution_count": null,
   "id": "49a06a92",
   "metadata": {},
   "outputs": [],
   "source": [
    " "
   ]
  }
 ],
 "metadata": {
  "kernelspec": {
   "display_name": "Python 3 (ipykernel)",
   "language": "python",
   "name": "python3"
  },
  "language_info": {
   "codemirror_mode": {
    "name": "ipython",
    "version": 3
   },
   "file_extension": ".py",
   "mimetype": "text/x-python",
   "name": "python",
   "nbconvert_exporter": "python",
   "pygments_lexer": "ipython3",
   "version": "3.10.9"
  },
  "varInspector": {
   "cols": {
    "lenName": 16,
    "lenType": 16,
    "lenVar": 40
   },
   "kernels_config": {
    "python": {
     "delete_cmd_postfix": "",
     "delete_cmd_prefix": "del ",
     "library": "var_list.py",
     "varRefreshCmd": "print(var_dic_list())"
    },
    "r": {
     "delete_cmd_postfix": ") ",
     "delete_cmd_prefix": "rm(",
     "library": "var_list.r",
     "varRefreshCmd": "cat(var_dic_list()) "
    }
   },
   "types_to_exclude": [
    "module",
    "function",
    "builtin_function_or_method",
    "instance",
    "_Feature"
   ],
   "window_display": true
  }
 },
 "nbformat": 4,
 "nbformat_minor": 5
}
